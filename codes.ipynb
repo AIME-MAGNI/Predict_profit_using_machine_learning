{
 "cells": [
  {
   "cell_type": "markdown",
   "metadata": {},
   "source": [
    "# This model push all variables"
   ]
  },
  {
   "cell_type": "code",
   "execution_count": 1,
   "metadata": {
    "ExecuteTime": {
     "end_time": "2021-06-09T19:28:02.268061Z",
     "start_time": "2021-06-09T19:28:01.389272Z"
    }
   },
   "outputs": [],
   "source": [
    "# Importing the libraries\n",
    "import numpy as np\n",
    "import matplotlib.pyplot as plt\n",
    "import pandas as pd\n",
    "import seaborn as sns"
   ]
  },
  {
   "cell_type": "code",
   "execution_count": 2,
   "metadata": {
    "ExecuteTime": {
     "end_time": "2021-06-09T19:28:02.290223Z",
     "start_time": "2021-06-09T19:28:02.270091Z"
    }
   },
   "outputs": [
    {
     "data": {
      "text/html": [
       "<div>\n",
       "<style scoped>\n",
       "    .dataframe tbody tr th:only-of-type {\n",
       "        vertical-align: middle;\n",
       "    }\n",
       "\n",
       "    .dataframe tbody tr th {\n",
       "        vertical-align: top;\n",
       "    }\n",
       "\n",
       "    .dataframe thead th {\n",
       "        text-align: right;\n",
       "    }\n",
       "</style>\n",
       "<table border=\"1\" class=\"dataframe\">\n",
       "  <thead>\n",
       "    <tr style=\"text-align: right;\">\n",
       "      <th></th>\n",
       "      <th>Marketing Spend</th>\n",
       "      <th>Administration</th>\n",
       "      <th>Transport</th>\n",
       "      <th>Area</th>\n",
       "      <th>Profit</th>\n",
       "    </tr>\n",
       "  </thead>\n",
       "  <tbody>\n",
       "    <tr>\n",
       "      <th>0</th>\n",
       "      <td>114523.61</td>\n",
       "      <td>136897.80</td>\n",
       "      <td>471784.10</td>\n",
       "      <td>Dhaka</td>\n",
       "      <td>192261.83</td>\n",
       "    </tr>\n",
       "    <tr>\n",
       "      <th>1</th>\n",
       "      <td>162597.70</td>\n",
       "      <td>151377.59</td>\n",
       "      <td>443898.53</td>\n",
       "      <td>Ctg</td>\n",
       "      <td>191792.06</td>\n",
       "    </tr>\n",
       "    <tr>\n",
       "      <th>2</th>\n",
       "      <td>153441.51</td>\n",
       "      <td>101145.55</td>\n",
       "      <td>407934.54</td>\n",
       "      <td>Rangpur</td>\n",
       "      <td>191050.39</td>\n",
       "    </tr>\n",
       "    <tr>\n",
       "      <th>3</th>\n",
       "      <td>144372.41</td>\n",
       "      <td>118671.85</td>\n",
       "      <td>383199.62</td>\n",
       "      <td>Dhaka</td>\n",
       "      <td>182901.99</td>\n",
       "    </tr>\n",
       "    <tr>\n",
       "      <th>4</th>\n",
       "      <td>142107.34</td>\n",
       "      <td>91391.77</td>\n",
       "      <td>366168.42</td>\n",
       "      <td>Rangpur</td>\n",
       "      <td>166187.94</td>\n",
       "    </tr>\n",
       "  </tbody>\n",
       "</table>\n",
       "</div>"
      ],
      "text/plain": [
       "   Marketing Spend  Administration  Transport     Area     Profit\n",
       "0        114523.61       136897.80  471784.10    Dhaka  192261.83\n",
       "1        162597.70       151377.59  443898.53      Ctg  191792.06\n",
       "2        153441.51       101145.55  407934.54  Rangpur  191050.39\n",
       "3        144372.41       118671.85  383199.62    Dhaka  182901.99\n",
       "4        142107.34        91391.77  366168.42  Rangpur  166187.94"
      ]
     },
     "execution_count": 2,
     "metadata": {},
     "output_type": "execute_result"
    }
   ],
   "source": [
    "# Importing the dataset\n",
    "data = pd.read_csv('online.csv')\n",
    "data.head()"
   ]
  },
  {
   "cell_type": "code",
   "execution_count": 3,
   "metadata": {
    "ExecuteTime": {
     "end_time": "2021-06-09T19:28:02.298735Z",
     "start_time": "2021-06-09T19:28:02.293509Z"
    },
    "scrolled": false
   },
   "outputs": [],
   "source": [
    "cols = data.shape[1]\n",
    "X = data.iloc[:,:cols-2].values\n",
    "y = data.iloc[:,cols-1 : cols].values"
   ]
  },
  {
   "cell_type": "code",
   "execution_count": 4,
   "metadata": {},
   "outputs": [
    {
     "data": {
      "text/plain": [
       "5"
      ]
     },
     "execution_count": 4,
     "metadata": {},
     "output_type": "execute_result"
    }
   ],
   "source": [
    "cols"
   ]
  },
  {
   "cell_type": "code",
   "execution_count": 5,
   "metadata": {
    "ExecuteTime": {
     "end_time": "2021-06-09T19:28:02.720741Z",
     "start_time": "2021-06-09T19:28:02.715341Z"
    }
   },
   "outputs": [
    {
     "data": {
      "text/plain": [
       "array([[114523.61, 136897.8 , 471784.1 ],\n",
       "       [162597.7 , 151377.59, 443898.53],\n",
       "       [153441.51, 101145.55, 407934.54],\n",
       "       [144372.41, 118671.85, 383199.62],\n",
       "       [142107.34,  91391.77, 366168.42],\n",
       "       [131876.9 ,  99814.71, 362861.36],\n",
       "       [134615.46, 147198.87, 127716.82],\n",
       "       [130298.13, 145530.06, 323876.68],\n",
       "       [120542.52, 148718.95, 311613.29],\n",
       "       [123334.88, 108679.17, 304981.62],\n",
       "       [101913.08, 110594.11, 229160.95],\n",
       "       [100671.96,  91790.61, 249744.55],\n",
       "       [ 93863.75, 127320.38, 249839.44],\n",
       "       [ 91992.39, 135495.07, 252664.93],\n",
       "       [119943.24, 156547.42, 256512.92],\n",
       "       [165349.2 , 122616.84, 261776.23],\n",
       "       [ 78013.11, 121597.55, 264346.06],\n",
       "       [ 94657.16, 145077.58, 282574.31],\n",
       "       [ 91749.16, 114175.79, 294919.57],\n",
       "       [ 86419.7 , 153514.11,      0.  ],\n",
       "       [ 76253.86, 113867.3 , 298664.47],\n",
       "       [ 78389.47, 153773.43, 299737.29],\n",
       "       [ 73994.56, 122782.75, 303319.26],\n",
       "       [ 67532.53, 105751.03, 304768.73],\n",
       "       [ 77044.01,  99281.34, 140574.81],\n",
       "       [ 64664.71, 139553.16, 137962.62],\n",
       "       [ 75328.87, 144135.98, 134050.07],\n",
       "       [ 72107.6 , 127864.55, 353183.81],\n",
       "       [ 66051.52, 182645.56, 118148.2 ],\n",
       "       [ 65605.48, 153032.06, 107138.38],\n",
       "       [ 61994.48, 115641.28,  91131.24],\n",
       "       [ 61136.38, 152701.92,  88218.23],\n",
       "       [ 63408.86, 129219.61,  46085.25],\n",
       "       [ 55493.95, 103057.49, 214634.81],\n",
       "       [ 46426.07, 157693.92, 210797.67],\n",
       "       [ 46014.02,  85047.44, 205517.64],\n",
       "       [ 28663.76, 127056.21, 201126.82],\n",
       "       [ 44069.95,  51283.14, 197029.42],\n",
       "       [ 20229.59,  65947.93, 185265.1 ],\n",
       "       [ 38558.51,  82982.09, 174999.3 ],\n",
       "       [ 28754.33, 118546.05, 172795.67],\n",
       "       [ 27892.92,  84710.77, 164470.71],\n",
       "       [ 23640.93,  96189.63, 148001.11],\n",
       "       [ 15505.73, 127382.3 ,  35534.17],\n",
       "       [ 22177.74, 154806.14,  28334.72],\n",
       "       [  1000.23, 124153.04,   1903.93],\n",
       "       [  1315.46, 115816.21, 297114.46],\n",
       "       [     0.  , 135426.92,      0.  ],\n",
       "       [   542.05,  51743.15,      0.  ],\n",
       "       [     0.  , 116983.8 ,  45173.06]])"
      ]
     },
     "execution_count": 5,
     "metadata": {},
     "output_type": "execute_result"
    }
   ],
   "source": [
    "X"
   ]
  },
  {
   "cell_type": "markdown",
   "metadata": {},
   "source": [
    "## Encoding categorical data"
   ]
  },
  {
   "cell_type": "code",
   "execution_count": 6,
   "metadata": {
    "ExecuteTime": {
     "end_time": "2021-06-09T19:28:03.897707Z",
     "start_time": "2021-06-09T19:28:03.891498Z"
    }
   },
   "outputs": [
    {
     "data": {
      "text/plain": [
       "array([[192261.83],\n",
       "       [191792.06],\n",
       "       [191050.39],\n",
       "       [182901.99],\n",
       "       [166187.94],\n",
       "       [156991.12],\n",
       "       [156122.51],\n",
       "       [155752.6 ],\n",
       "       [152211.77],\n",
       "       [149759.96],\n",
       "       [146121.95],\n",
       "       [144259.4 ],\n",
       "       [141585.52],\n",
       "       [134307.35],\n",
       "       [132602.65],\n",
       "       [129917.04],\n",
       "       [126992.93],\n",
       "       [125370.37],\n",
       "       [124266.9 ],\n",
       "       [122776.86],\n",
       "       [118474.03],\n",
       "       [111313.02],\n",
       "       [110352.25],\n",
       "       [108733.99],\n",
       "       [108552.04],\n",
       "       [107404.34],\n",
       "       [105733.54],\n",
       "       [105008.31],\n",
       "       [103282.38],\n",
       "       [101004.64],\n",
       "       [ 99937.59],\n",
       "       [ 97483.56],\n",
       "       [ 97427.84],\n",
       "       [ 96778.92],\n",
       "       [ 96712.8 ],\n",
       "       [ 96479.51],\n",
       "       [ 90708.19],\n",
       "       [ 89949.14],\n",
       "       [ 81229.06],\n",
       "       [ 81005.76],\n",
       "       [ 78239.91],\n",
       "       [ 77798.83],\n",
       "       [ 71498.49],\n",
       "       [ 69758.98],\n",
       "       [ 65200.33],\n",
       "       [ 64926.08],\n",
       "       [ 49490.75],\n",
       "       [ 42559.73],\n",
       "       [ 35673.41],\n",
       "       [ 14681.4 ]])"
      ]
     },
     "execution_count": 6,
     "metadata": {},
     "output_type": "execute_result"
    }
   ],
   "source": [
    "y"
   ]
  },
  {
   "cell_type": "code",
   "execution_count": 7,
   "metadata": {},
   "outputs": [
    {
     "name": "stdout",
     "output_type": "stream",
     "text": [
      "<class 'pandas.core.frame.DataFrame'>\n",
      "RangeIndex: 50 entries, 0 to 49\n",
      "Data columns (total 5 columns):\n",
      " #   Column           Non-Null Count  Dtype  \n",
      "---  ------           --------------  -----  \n",
      " 0   Marketing Spend  50 non-null     float64\n",
      " 1   Administration   50 non-null     float64\n",
      " 2   Transport        50 non-null     float64\n",
      " 3   Area             50 non-null     object \n",
      " 4   Profit           50 non-null     float64\n",
      "dtypes: float64(4), object(1)\n",
      "memory usage: 2.1+ KB\n"
     ]
    }
   ],
   "source": [
    "data.info()"
   ]
  },
  {
   "cell_type": "code",
   "execution_count": 8,
   "metadata": {},
   "outputs": [
    {
     "data": {
      "text/html": [
       "<div>\n",
       "<style scoped>\n",
       "    .dataframe tbody tr th:only-of-type {\n",
       "        vertical-align: middle;\n",
       "    }\n",
       "\n",
       "    .dataframe tbody tr th {\n",
       "        vertical-align: top;\n",
       "    }\n",
       "\n",
       "    .dataframe thead th {\n",
       "        text-align: right;\n",
       "    }\n",
       "</style>\n",
       "<table border=\"1\" class=\"dataframe\">\n",
       "  <thead>\n",
       "    <tr style=\"text-align: right;\">\n",
       "      <th></th>\n",
       "      <th>Marketing Spend</th>\n",
       "      <th>Administration</th>\n",
       "      <th>Transport</th>\n",
       "      <th>Profit</th>\n",
       "    </tr>\n",
       "  </thead>\n",
       "  <tbody>\n",
       "    <tr>\n",
       "      <th>Marketing Spend</th>\n",
       "      <td>1.000000</td>\n",
       "      <td>0.230437</td>\n",
       "      <td>0.685442</td>\n",
       "      <td>0.937948</td>\n",
       "    </tr>\n",
       "    <tr>\n",
       "      <th>Administration</th>\n",
       "      <td>0.230437</td>\n",
       "      <td>1.000000</td>\n",
       "      <td>-0.032154</td>\n",
       "      <td>0.200717</td>\n",
       "    </tr>\n",
       "    <tr>\n",
       "      <th>Transport</th>\n",
       "      <td>0.685442</td>\n",
       "      <td>-0.032154</td>\n",
       "      <td>1.000000</td>\n",
       "      <td>0.747766</td>\n",
       "    </tr>\n",
       "    <tr>\n",
       "      <th>Profit</th>\n",
       "      <td>0.937948</td>\n",
       "      <td>0.200717</td>\n",
       "      <td>0.747766</td>\n",
       "      <td>1.000000</td>\n",
       "    </tr>\n",
       "  </tbody>\n",
       "</table>\n",
       "</div>"
      ],
      "text/plain": [
       "                 Marketing Spend  Administration  Transport    Profit\n",
       "Marketing Spend         1.000000        0.230437   0.685442  0.937948\n",
       "Administration          0.230437        1.000000  -0.032154  0.200717\n",
       "Transport               0.685442       -0.032154   1.000000  0.747766\n",
       "Profit                  0.937948        0.200717   0.747766  1.000000"
      ]
     },
     "execution_count": 8,
     "metadata": {},
     "output_type": "execute_result"
    }
   ],
   "source": [
    "data.corr()"
   ]
  },
  {
   "cell_type": "markdown",
   "metadata": {},
   "source": [
    "## avoiding dummy variable trap"
   ]
  },
  {
   "cell_type": "code",
   "execution_count": 9,
   "metadata": {
    "ExecuteTime": {
     "end_time": "2021-06-09T19:28:06.898634Z",
     "start_time": "2021-06-09T19:28:06.864650Z"
    }
   },
   "outputs": [],
   "source": [
    "# Splitting the dataset into the Training set and Test set\n",
    "from sklearn.model_selection import train_test_split\n",
    "X_train, X_test, y_train, y_test = train_test_split(X, y, test_size = 0.2, random_state = 42)\n"
   ]
  },
  {
   "cell_type": "code",
   "execution_count": 10,
   "metadata": {},
   "outputs": [],
   "source": [
    "from sklearn.preprocessing import StandardScaler\n",
    "\n",
    "scaler = StandardScaler()\n",
    "sc_X_train = scaler.fit_transform(X_train)\n",
    "sc_X_test = scaler.transform(X_test)\n"
   ]
  },
  {
   "cell_type": "code",
   "execution_count": 11,
   "metadata": {},
   "outputs": [
    {
     "data": {
      "text/plain": [
       "array([[ 0.30245367,  0.52942836,  0.14916233],\n",
       "       [-0.82734624, -1.40769369, -0.53560477],\n",
       "       [-0.33181874, -0.20294703, -1.27505783],\n",
       "       [-1.62147425,  0.11103854, -2.06176266],\n",
       "       [ 0.35879726,  0.88291223,  0.41286919],\n",
       "       [-1.63116196, -2.56004955, -2.07854935],\n",
       "       [-0.04987791,  0.84817808, -0.89664846],\n",
       "       [-0.2753597 ,  0.67912498, -0.86215204],\n",
       "       [-0.30191325,  0.29793642, -1.67222209],\n",
       "       [ 0.18462534,  1.19412269, -2.07854935]])"
      ]
     },
     "execution_count": 11,
     "metadata": {},
     "output_type": "execute_result"
    }
   ],
   "source": [
    "sc_X_test"
   ]
  },
  {
   "cell_type": "code",
   "execution_count": 12,
   "metadata": {},
   "outputs": [
    {
     "data": {
      "text/plain": [
       "3"
      ]
     },
     "execution_count": 12,
     "metadata": {},
     "output_type": "execute_result"
    }
   ],
   "source": [
    "sc_X_train.shape[1]"
   ]
  },
  {
   "cell_type": "code",
   "execution_count": 13,
   "metadata": {},
   "outputs": [],
   "source": [
    "import os\n",
    "\n",
    "import tensorflow as tf\n",
    "from tensorflow import keras\n",
    "from keras.layers import Dense, Activation, Dropout, Input,InputLayer\n",
    "\n",
    "from keras.models import Sequential "
   ]
  },
  {
   "cell_type": "code",
   "execution_count": 14,
   "metadata": {},
   "outputs": [
    {
     "name": "stdout",
     "output_type": "stream",
     "text": [
      "Model: \"sequential\"\n",
      "_________________________________________________________________\n",
      " Layer (type)                Output Shape              Param #   \n",
      "=================================================================\n",
      " dense (Dense)               (None, 1)                 4         \n",
      "                                                                 \n",
      "=================================================================\n",
      "Total params: 4\n",
      "Trainable params: 4\n",
      "Non-trainable params: 0\n",
      "_________________________________________________________________\n"
     ]
    }
   ],
   "source": [
    "from keras.optimizers import SGD\n",
    "opt = SGD(learning_rate=0.1)\n",
    "\n",
    "model = Sequential()\n",
    "model.add(InputLayer(input_shape = sc_X_train.shape[1], ))\n",
    "# model.add(Dense(64, activation = 'relu'))\n",
    "# model.add(Dense(64, activation = 'relu'))\n",
    "model.add(Dense(1, activation='linear'))\n",
    "\n",
    "model.compile(optimizer=opt,\n",
    "                loss='mean_squared_error', metrics=['accuracy'])\n",
    "\n",
    "# Display the model's architecture\n",
    "model.summary()"
   ]
  },
  {
   "cell_type": "code",
   "execution_count": 15,
   "metadata": {},
   "outputs": [
    {
     "name": "stdout",
     "output_type": "stream",
     "text": [
      "Epoch 1/70\n",
      "2/2 [==============================] - 1s 288ms/step - loss: 14089963520.0000 - accuracy: 0.0000e+00 - val_loss: 5498159104.0000 - val_accuracy: 0.0000e+00\n",
      "Epoch 2/70\n",
      "2/2 [==============================] - 0s 40ms/step - loss: 5908388352.0000 - accuracy: 0.0000e+00 - val_loss: 2719786240.0000 - val_accuracy: 0.0000e+00\n",
      "Epoch 3/70\n",
      "2/2 [==============================] - 0s 40ms/step - loss: 2580658432.0000 - accuracy: 0.0000e+00 - val_loss: 1425220992.0000 - val_accuracy: 0.0000e+00\n",
      "Epoch 4/70\n",
      "2/2 [==============================] - 0s 32ms/step - loss: 1179713536.0000 - accuracy: 0.0000e+00 - val_loss: 1057475584.0000 - val_accuracy: 0.0000e+00\n",
      "Epoch 5/70\n",
      "2/2 [==============================] - 0s 40ms/step - loss: 561051328.0000 - accuracy: 0.0000e+00 - val_loss: 709154368.0000 - val_accuracy: 0.0000e+00\n",
      "Epoch 6/70\n",
      "2/2 [==============================] - 0s 40ms/step - loss: 357566400.0000 - accuracy: 0.0000e+00 - val_loss: 502769568.0000 - val_accuracy: 0.0000e+00\n",
      "Epoch 7/70\n",
      "2/2 [==============================] - 0s 32ms/step - loss: 256273360.0000 - accuracy: 0.0000e+00 - val_loss: 461630656.0000 - val_accuracy: 0.0000e+00\n",
      "Epoch 8/70\n",
      "2/2 [==============================] - 0s 40ms/step - loss: 226686560.0000 - accuracy: 0.0000e+00 - val_loss: 337682432.0000 - val_accuracy: 0.0000e+00\n",
      "Epoch 9/70\n",
      "2/2 [==============================] - 0s 32ms/step - loss: 208243184.0000 - accuracy: 0.0000e+00 - val_loss: 333300128.0000 - val_accuracy: 0.0000e+00\n",
      "Epoch 10/70\n",
      "2/2 [==============================] - 0s 40ms/step - loss: 198485920.0000 - accuracy: 0.0000e+00 - val_loss: 282121536.0000 - val_accuracy: 0.0000e+00\n",
      "Epoch 11/70\n",
      "2/2 [==============================] - 0s 40ms/step - loss: 190851792.0000 - accuracy: 0.0000e+00 - val_loss: 249276128.0000 - val_accuracy: 0.0000e+00\n",
      "Epoch 12/70\n",
      "2/2 [==============================] - 0s 32ms/step - loss: 185596832.0000 - accuracy: 0.0000e+00 - val_loss: 213898336.0000 - val_accuracy: 0.0000e+00\n",
      "Epoch 13/70\n",
      "2/2 [==============================] - 0s 33ms/step - loss: 188188064.0000 - accuracy: 0.0000e+00 - val_loss: 320358656.0000 - val_accuracy: 0.0000e+00\n",
      "Epoch 14/70\n",
      "2/2 [==============================] - 0s 40ms/step - loss: 200784352.0000 - accuracy: 0.0000e+00 - val_loss: 234983392.0000 - val_accuracy: 0.0000e+00\n",
      "Epoch 15/70\n",
      "2/2 [==============================] - 0s 40ms/step - loss: 184762160.0000 - accuracy: 0.0000e+00 - val_loss: 187125040.0000 - val_accuracy: 0.0000e+00\n",
      "Epoch 16/70\n",
      "2/2 [==============================] - 0s 32ms/step - loss: 180377888.0000 - accuracy: 0.0000e+00 - val_loss: 178044048.0000 - val_accuracy: 0.0000e+00\n",
      "Epoch 17/70\n",
      "2/2 [==============================] - 0s 40ms/step - loss: 179387360.0000 - accuracy: 0.0000e+00 - val_loss: 145440448.0000 - val_accuracy: 0.0000e+00\n",
      "Epoch 18/70\n",
      "2/2 [==============================] - 0s 40ms/step - loss: 175203872.0000 - accuracy: 0.0000e+00 - val_loss: 131524712.0000 - val_accuracy: 0.0000e+00\n",
      "Epoch 19/70\n",
      "2/2 [==============================] - 0s 40ms/step - loss: 176365840.0000 - accuracy: 0.0000e+00 - val_loss: 133149208.0000 - val_accuracy: 0.0000e+00\n",
      "Epoch 20/70\n",
      "2/2 [==============================] - 0s 32ms/step - loss: 175869792.0000 - accuracy: 0.0000e+00 - val_loss: 163124512.0000 - val_accuracy: 0.0000e+00\n",
      "Epoch 21/70\n",
      "2/2 [==============================] - 0s 40ms/step - loss: 176661856.0000 - accuracy: 0.0000e+00 - val_loss: 130131760.0000 - val_accuracy: 0.0000e+00\n",
      "Epoch 22/70\n",
      "2/2 [==============================] - 0s 32ms/step - loss: 173773792.0000 - accuracy: 0.0000e+00 - val_loss: 124715344.0000 - val_accuracy: 0.0000e+00\n",
      "Epoch 23/70\n",
      "2/2 [==============================] - 0s 32ms/step - loss: 177077536.0000 - accuracy: 0.0000e+00 - val_loss: 114225104.0000 - val_accuracy: 0.0000e+00\n",
      "Epoch 24/70\n",
      "2/2 [==============================] - 0s 40ms/step - loss: 181433312.0000 - accuracy: 0.0000e+00 - val_loss: 131003864.0000 - val_accuracy: 0.0000e+00\n",
      "Epoch 25/70\n",
      "2/2 [==============================] - 0s 32ms/step - loss: 177015968.0000 - accuracy: 0.0000e+00 - val_loss: 135663456.0000 - val_accuracy: 0.0000e+00\n",
      "Epoch 26/70\n",
      "2/2 [==============================] - 0s 32ms/step - loss: 174120704.0000 - accuracy: 0.0000e+00 - val_loss: 120033944.0000 - val_accuracy: 0.0000e+00\n",
      "Epoch 27/70\n",
      "2/2 [==============================] - 0s 40ms/step - loss: 174271568.0000 - accuracy: 0.0000e+00 - val_loss: 120617264.0000 - val_accuracy: 0.0000e+00\n",
      "Epoch 28/70\n",
      "2/2 [==============================] - 0s 32ms/step - loss: 174829088.0000 - accuracy: 0.0000e+00 - val_loss: 134412064.0000 - val_accuracy: 0.0000e+00\n",
      "Epoch 29/70\n",
      "2/2 [==============================] - 0s 32ms/step - loss: 175177392.0000 - accuracy: 0.0000e+00 - val_loss: 132451856.0000 - val_accuracy: 0.0000e+00\n",
      "Epoch 30/70\n",
      "2/2 [==============================] - 0s 40ms/step - loss: 174717136.0000 - accuracy: 0.0000e+00 - val_loss: 133984336.0000 - val_accuracy: 0.0000e+00\n",
      "Epoch 31/70\n",
      "2/2 [==============================] - 0s 32ms/step - loss: 175878480.0000 - accuracy: 0.0000e+00 - val_loss: 123782936.0000 - val_accuracy: 0.0000e+00\n",
      "Epoch 32/70\n",
      "2/2 [==============================] - 0s 40ms/step - loss: 178531248.0000 - accuracy: 0.0000e+00 - val_loss: 155828736.0000 - val_accuracy: 0.0000e+00\n",
      "Epoch 33/70\n",
      "2/2 [==============================] - 0s 40ms/step - loss: 182179664.0000 - accuracy: 0.0000e+00 - val_loss: 123412288.0000 - val_accuracy: 0.0000e+00\n",
      "Epoch 34/70\n",
      "2/2 [==============================] - 0s 32ms/step - loss: 173709760.0000 - accuracy: 0.0000e+00 - val_loss: 113212696.0000 - val_accuracy: 0.0000e+00\n",
      "Epoch 35/70\n",
      "2/2 [==============================] - 0s 32ms/step - loss: 174290208.0000 - accuracy: 0.0000e+00 - val_loss: 119518080.0000 - val_accuracy: 0.0000e+00\n",
      "Epoch 36/70\n",
      "2/2 [==============================] - 0s 40ms/step - loss: 175300528.0000 - accuracy: 0.0000e+00 - val_loss: 151539632.0000 - val_accuracy: 0.0000e+00\n",
      "Epoch 37/70\n",
      "2/2 [==============================] - 0s 40ms/step - loss: 177127328.0000 - accuracy: 0.0000e+00 - val_loss: 160631328.0000 - val_accuracy: 0.0000e+00\n",
      "Epoch 38/70\n",
      "2/2 [==============================] - 0s 32ms/step - loss: 182892368.0000 - accuracy: 0.0000e+00 - val_loss: 172296544.0000 - val_accuracy: 0.0000e+00\n",
      "Epoch 39/70\n",
      "2/2 [==============================] - 0s 32ms/step - loss: 187607872.0000 - accuracy: 0.0000e+00 - val_loss: 169208656.0000 - val_accuracy: 0.0000e+00\n",
      "Epoch 40/70\n",
      "2/2 [==============================] - 0s 32ms/step - loss: 185804928.0000 - accuracy: 0.0000e+00 - val_loss: 176113808.0000 - val_accuracy: 0.0000e+00\n",
      "Epoch 41/70\n",
      "2/2 [==============================] - 0s 40ms/step - loss: 188376912.0000 - accuracy: 0.0000e+00 - val_loss: 180725184.0000 - val_accuracy: 0.0000e+00\n",
      "Epoch 42/70\n",
      "2/2 [==============================] - 0s 40ms/step - loss: 181421376.0000 - accuracy: 0.0000e+00 - val_loss: 103510872.0000 - val_accuracy: 0.0000e+00\n",
      "Epoch 43/70\n",
      "2/2 [==============================] - 0s 40ms/step - loss: 174455408.0000 - accuracy: 0.0000e+00 - val_loss: 95734704.0000 - val_accuracy: 0.0000e+00\n",
      "Epoch 44/70\n",
      "2/2 [==============================] - 0s 40ms/step - loss: 175380960.0000 - accuracy: 0.0000e+00 - val_loss: 104640384.0000 - val_accuracy: 0.0000e+00\n",
      "Epoch 45/70\n",
      "2/2 [==============================] - 0s 32ms/step - loss: 175603584.0000 - accuracy: 0.0000e+00 - val_loss: 128412992.0000 - val_accuracy: 0.0000e+00\n",
      "Epoch 46/70\n",
      "2/2 [==============================] - 0s 40ms/step - loss: 174096976.0000 - accuracy: 0.0000e+00 - val_loss: 117622096.0000 - val_accuracy: 0.0000e+00\n",
      "Epoch 47/70\n",
      "2/2 [==============================] - 0s 32ms/step - loss: 173764976.0000 - accuracy: 0.0000e+00 - val_loss: 105855952.0000 - val_accuracy: 0.0000e+00\n",
      "Epoch 48/70\n",
      "2/2 [==============================] - 0s 40ms/step - loss: 174657904.0000 - accuracy: 0.0000e+00 - val_loss: 104478184.0000 - val_accuracy: 0.0000e+00\n",
      "Epoch 49/70\n",
      "2/2 [==============================] - 0s 40ms/step - loss: 176291776.0000 - accuracy: 0.0000e+00 - val_loss: 122704464.0000 - val_accuracy: 0.0000e+00\n",
      "Epoch 50/70\n",
      "2/2 [==============================] - 0s 32ms/step - loss: 176109072.0000 - accuracy: 0.0000e+00 - val_loss: 170533040.0000 - val_accuracy: 0.0000e+00\n",
      "Epoch 51/70\n",
      "2/2 [==============================] - 0s 40ms/step - loss: 182223152.0000 - accuracy: 0.0000e+00 - val_loss: 175719312.0000 - val_accuracy: 0.0000e+00\n",
      "Epoch 52/70\n",
      "2/2 [==============================] - 0s 40ms/step - loss: 182634592.0000 - accuracy: 0.0000e+00 - val_loss: 122445528.0000 - val_accuracy: 0.0000e+00\n",
      "Epoch 53/70\n",
      "2/2 [==============================] - 0s 40ms/step - loss: 176902176.0000 - accuracy: 0.0000e+00 - val_loss: 118427760.0000 - val_accuracy: 0.0000e+00\n",
      "Epoch 54/70\n",
      "2/2 [==============================] - 0s 32ms/step - loss: 182492080.0000 - accuracy: 0.0000e+00 - val_loss: 179140560.0000 - val_accuracy: 0.0000e+00\n",
      "Epoch 55/70\n",
      "2/2 [==============================] - 0s 32ms/step - loss: 189332432.0000 - accuracy: 0.0000e+00 - val_loss: 135368736.0000 - val_accuracy: 0.0000e+00\n",
      "Epoch 56/70\n",
      "2/2 [==============================] - 0s 40ms/step - loss: 176008480.0000 - accuracy: 0.0000e+00 - val_loss: 126179432.0000 - val_accuracy: 0.0000e+00\n",
      "Epoch 57/70\n",
      "2/2 [==============================] - 0s 40ms/step - loss: 176624032.0000 - accuracy: 0.0000e+00 - val_loss: 150475120.0000 - val_accuracy: 0.0000e+00\n",
      "Epoch 58/70\n",
      "2/2 [==============================] - 0s 32ms/step - loss: 178912416.0000 - accuracy: 0.0000e+00 - val_loss: 123227160.0000 - val_accuracy: 0.0000e+00\n",
      "Epoch 59/70\n",
      "2/2 [==============================] - 0s 32ms/step - loss: 175915168.0000 - accuracy: 0.0000e+00 - val_loss: 133453168.0000 - val_accuracy: 0.0000e+00\n",
      "Epoch 60/70\n",
      "2/2 [==============================] - 0s 40ms/step - loss: 176083296.0000 - accuracy: 0.0000e+00 - val_loss: 153801808.0000 - val_accuracy: 0.0000e+00\n",
      "Epoch 61/70\n",
      "2/2 [==============================] - 0s 40ms/step - loss: 176145056.0000 - accuracy: 0.0000e+00 - val_loss: 134758192.0000 - val_accuracy: 0.0000e+00\n",
      "Epoch 62/70\n",
      "2/2 [==============================] - 0s 32ms/step - loss: 174013344.0000 - accuracy: 0.0000e+00 - val_loss: 99659000.0000 - val_accuracy: 0.0000e+00\n",
      "Epoch 63/70\n",
      "2/2 [==============================] - 0s 32ms/step - loss: 174450272.0000 - accuracy: 0.0000e+00 - val_loss: 109781352.0000 - val_accuracy: 0.0000e+00\n",
      "Epoch 64/70\n",
      "2/2 [==============================] - 0s 40ms/step - loss: 173983200.0000 - accuracy: 0.0000e+00 - val_loss: 118358056.0000 - val_accuracy: 0.0000e+00\n",
      "Epoch 65/70\n",
      "2/2 [==============================] - 0s 32ms/step - loss: 176173776.0000 - accuracy: 0.0000e+00 - val_loss: 139591088.0000 - val_accuracy: 0.0000e+00\n",
      "Epoch 66/70\n",
      "2/2 [==============================] - 0s 32ms/step - loss: 174649184.0000 - accuracy: 0.0000e+00 - val_loss: 121737920.0000 - val_accuracy: 0.0000e+00\n",
      "Epoch 67/70\n",
      "2/2 [==============================] - 0s 40ms/step - loss: 173913984.0000 - accuracy: 0.0000e+00 - val_loss: 112744192.0000 - val_accuracy: 0.0000e+00\n",
      "Epoch 68/70\n",
      "2/2 [==============================] - 0s 40ms/step - loss: 175636048.0000 - accuracy: 0.0000e+00 - val_loss: 131077696.0000 - val_accuracy: 0.0000e+00\n",
      "Epoch 69/70\n",
      "2/2 [==============================] - 0s 32ms/step - loss: 175724576.0000 - accuracy: 0.0000e+00 - val_loss: 123255528.0000 - val_accuracy: 0.0000e+00\n",
      "Epoch 70/70\n",
      "2/2 [==============================] - 0s 40ms/step - loss: 176611936.0000 - accuracy: 0.0000e+00 - val_loss: 169433952.0000 - val_accuracy: 0.0000e+00\n"
     ]
    }
   ],
   "source": [
    "history = model.fit(sc_X_train, y_train, verbose = 1, epochs=70, validation_data=(sc_X_test, y_test))"
   ]
  },
  {
   "cell_type": "code",
   "execution_count": 16,
   "metadata": {},
   "outputs": [
    {
     "name": "stdout",
     "output_type": "stream",
     "text": [
      "1/1 [==============================] - 0s 120ms/step\n",
      "[[134307.35]\n",
      " [ 81005.76]\n",
      " [ 99937.59]\n",
      " [ 64926.08]\n",
      " [125370.37]\n",
      " [ 35673.41]\n",
      " [105733.54]\n",
      " [107404.34]\n",
      " [ 97427.84]\n",
      " [122776.86]]\n",
      "---------------\n",
      "[[127444.99 ]\n",
      " [ 82196.305]\n",
      " [ 90171.45 ]\n",
      " [ 39170.836]\n",
      " [132416.38 ]\n",
      " [ 37912.47 ]\n",
      " [104011.625]\n",
      " [ 97012.53 ]\n",
      " [ 86714.34 ]\n",
      " [ 98145.03 ]]\n"
     ]
    }
   ],
   "source": [
    "prediction_test = model.predict(sc_X_test)\n",
    "\n",
    "print(y_test)\n",
    "print('---------------')\n",
    "print(prediction_test)"
   ]
  },
  {
   "cell_type": "code",
   "execution_count": 17,
   "metadata": {},
   "outputs": [
    {
     "name": "stdout",
     "output_type": "stream",
     "text": [
      "2/2 [==============================] - 0s 8ms/step - loss: 30649190089465266176.0000 - accuracy: 0.0000e+00\n"
     ]
    },
    {
     "data": {
      "text/plain": [
       "[3.0649190089465266e+19, 0.0]"
      ]
     },
     "execution_count": 17,
     "metadata": {},
     "output_type": "execute_result"
    }
   ],
   "source": [
    "model.compile(optimizer=opt, loss='mean_squared_error', metrics=['accuracy'])\n",
    "model.evaluate(X,y)"
   ]
  },
  {
   "cell_type": "code",
   "execution_count": 18,
   "metadata": {},
   "outputs": [],
   "source": [
    "# Calling `save('my_model.h5')` creates a h5 file `my_model.h5`.\n",
    "model.save(\"my_h5_model.h5\")\n",
    "\n",
    "# It can be used to reconstruct the model identically.\n",
    "reconstructed_model = keras.models.load_model(\"my_h5_model.h5\")"
   ]
  },
  {
   "cell_type": "code",
   "execution_count": 20,
   "metadata": {},
   "outputs": [
    {
     "name": "stdout",
     "output_type": "stream",
     "text": [
      "1/1 [==============================] - 0s 119ms/step\n"
     ]
    },
    {
     "data": {
      "text/plain": [
       "array([[9.355831e+08]], dtype=float32)"
      ]
     },
     "execution_count": 20,
     "metadata": {},
     "output_type": "execute_result"
    }
   ],
   "source": [
    "reconstructed_model.predict([[12000,34000,46457]])"
   ]
  },
  {
   "cell_type": "code",
   "execution_count": 22,
   "metadata": {},
   "outputs": [
    {
     "name": "stdout",
     "output_type": "stream",
     "text": [
      "1/1 [==============================] - 0s 96ms/step\n",
      "[[134307.35]\n",
      " [ 81005.76]\n",
      " [ 99937.59]\n",
      " [ 64926.08]\n",
      " [125370.37]\n",
      " [ 35673.41]\n",
      " [105733.54]\n",
      " [107404.34]\n",
      " [ 97427.84]\n",
      " [122776.86]]\n",
      "---------------\n",
      "[[127444.99 ]\n",
      " [ 82196.305]\n",
      " [ 90171.45 ]\n",
      " [ 39170.836]\n",
      " [132416.38 ]\n",
      " [ 37912.47 ]\n",
      " [104011.625]\n",
      " [ 97012.53 ]\n",
      " [ 86714.34 ]\n",
      " [ 98145.03 ]]\n"
     ]
    }
   ],
   "source": [
    "prediction_test = reconstructed_model.predict(sc_X_test)\n",
    "\n",
    "print(y_test)\n",
    "print('---------------')\n",
    "print(prediction_test)"
   ]
  },
  {
   "cell_type": "code",
   "execution_count": null,
   "metadata": {},
   "outputs": [],
   "source": []
  }
 ],
 "metadata": {
  "kernelspec": {
   "display_name": "Python 3.9.12 ('base')",
   "language": "python",
   "name": "python3"
  },
  "language_info": {
   "codemirror_mode": {
    "name": "ipython",
    "version": 3
   },
   "file_extension": ".py",
   "mimetype": "text/x-python",
   "name": "python",
   "nbconvert_exporter": "python",
   "pygments_lexer": "ipython3",
   "version": "3.9.12"
  },
  "vscode": {
   "interpreter": {
    "hash": "a90aeebcf29d64a654773811cc170cb25061cb2498f10ac689db374c7bf325de"
   }
  }
 },
 "nbformat": 4,
 "nbformat_minor": 2
}
